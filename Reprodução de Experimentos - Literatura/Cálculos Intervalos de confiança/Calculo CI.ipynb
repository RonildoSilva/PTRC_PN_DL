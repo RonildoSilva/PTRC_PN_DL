{
 "cells": [
  {
   "cell_type": "code",
   "execution_count": 1,
   "id": "2c02ec0b",
   "metadata": {},
   "outputs": [],
   "source": [
    "import numpy as np\n",
    "import scipy.stats as st\n",
    "\n",
    "def ci(data):\n",
    "  #create 95% confidence interval for population mean weight\n",
    "  return st.t.interval(alpha=0.95, df=len(data)-1, loc=np.mean(data), scale=st.sem(data))"
   ]
  },
  {
   "cell_type": "code",
   "execution_count": 2,
   "id": "ef8cba29",
   "metadata": {},
   "outputs": [],
   "source": [
    "import pandas as pd\n",
    "\n",
    "df = pd.read_csv('Tax_HD.csv', sep=';')"
   ]
  },
  {
   "cell_type": "code",
   "execution_count": 3,
   "id": "25db8844",
   "metadata": {},
   "outputs": [
    {
     "data": {
      "text/plain": [
       "Index(['y_test', 'y_pred'], dtype='object')"
      ]
     },
     "execution_count": 3,
     "metadata": {},
     "output_type": "execute_result"
    }
   ],
   "source": [
    "df.columns"
   ]
  },
  {
   "cell_type": "code",
   "execution_count": 4,
   "id": "319ad1e6",
   "metadata": {},
   "outputs": [],
   "source": [
    "df['y_test'] = df['y_test']/86400\n",
    "df['y_pred'] = df['y_pred']/86400"
   ]
  },
  {
   "cell_type": "code",
   "execution_count": 5,
   "id": "f0003d23",
   "metadata": {},
   "outputs": [
    {
     "name": "stderr",
     "output_type": "stream",
     "text": [
      "/tmp/ipykernel_18935/794020129.py:6: DeprecationWarning: Use of keyword argument 'alpha' for method 'interval' is deprecated and wil be removed in SciPy 1.11.0. Use first positional argument or keyword argument 'confidence' instead.\n",
      "  return st.t.interval(alpha=0.95, df=len(data)-1, loc=np.mean(data), scale=st.sem(data))\n"
     ]
    }
   ],
   "source": [
    "int_conf = ci(abs(df['y_test'].values - np.squeeze(df['y_pred'].values)))"
   ]
  },
  {
   "cell_type": "code",
   "execution_count": 6,
   "id": "29a64b55",
   "metadata": {},
   "outputs": [
    {
     "data": {
      "text/plain": [
       "(5.500043543152084, 6.333160008477134)"
      ]
     },
     "execution_count": 6,
     "metadata": {},
     "output_type": "execute_result"
    }
   ],
   "source": [
    "int_conf"
   ]
  },
  {
   "cell_type": "code",
   "execution_count": 24,
   "id": "22be94f8",
   "metadata": {},
   "outputs": [],
   "source": [
    "#df_nav_y_pred = pd.read_csv(\"Navarin_HD_y_pred.csv\")\n",
    "#df_nav_y_true = pd.read_csv(\"Navarin_HD_y_test.csv\")\n",
    "\n",
    "df_nav_y_pred = pd.read_csv(\"Navarin_BPI_y_pred.csv\")\n",
    "df_nav_y_true = pd.read_csv(\"Navarin_BPI_y_test.csv\")"
   ]
  },
  {
   "cell_type": "code",
   "execution_count": 25,
   "id": "1c0692aa",
   "metadata": {},
   "outputs": [],
   "source": [
    "df_nav_y_true['y_test'] = df_nav_y_true['y_test']/86400\n",
    "df_nav_y_pred['y_pred'] = df_nav_y_pred['y_pred']/86400"
   ]
  },
  {
   "cell_type": "code",
   "execution_count": 26,
   "id": "b4313b5d",
   "metadata": {},
   "outputs": [],
   "source": [
    "y_true = df_nav_y_true['y_test'].values\n",
    "y_pred = df_nav_y_pred['y_pred'].values"
   ]
  },
  {
   "cell_type": "code",
   "execution_count": 27,
   "id": "527fde62",
   "metadata": {},
   "outputs": [
    {
     "name": "stderr",
     "output_type": "stream",
     "text": [
      "/tmp/ipykernel_18935/794020129.py:6: DeprecationWarning: Use of keyword argument 'alpha' for method 'interval' is deprecated and wil be removed in SciPy 1.11.0. Use first positional argument or keyword argument 'confidence' instead.\n",
      "  return st.t.interval(alpha=0.95, df=len(data)-1, loc=np.mean(data), scale=st.sem(data))\n"
     ]
    },
    {
     "data": {
      "text/plain": [
       "(7.1750589031204335, 7.343444827010918)"
      ]
     },
     "execution_count": 27,
     "metadata": {},
     "output_type": "execute_result"
    }
   ],
   "source": [
    "ci(abs(y_true - np.squeeze(y_pred)))"
   ]
  },
  {
   "cell_type": "code",
   "execution_count": 28,
   "id": "a7c5df9f",
   "metadata": {},
   "outputs": [],
   "source": [
    "from sklearn.metrics import mean_absolute_error"
   ]
  },
  {
   "cell_type": "code",
   "execution_count": 29,
   "id": "459668f6",
   "metadata": {},
   "outputs": [
    {
     "data": {
      "text/plain": [
       "array([7.25925187])"
      ]
     },
     "execution_count": 29,
     "metadata": {},
     "output_type": "execute_result"
    }
   ],
   "source": [
    "mean_absolute_error(y_true, y_pred, multioutput='raw_values')"
   ]
  },
  {
   "cell_type": "code",
   "execution_count": null,
   "id": "fe11a8da",
   "metadata": {},
   "outputs": [],
   "source": []
  }
 ],
 "metadata": {
  "kernelspec": {
   "display_name": "Python 3 (ipykernel)",
   "language": "python",
   "name": "python3"
  },
  "language_info": {
   "codemirror_mode": {
    "name": "ipython",
    "version": 3
   },
   "file_extension": ".py",
   "mimetype": "text/x-python",
   "name": "python",
   "nbconvert_exporter": "python",
   "pygments_lexer": "ipython3",
   "version": "3.10.9"
  }
 },
 "nbformat": 4,
 "nbformat_minor": 5
}
